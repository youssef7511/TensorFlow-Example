{
 "cells": [
  {
   "cell_type": "code",
   "execution_count": null,
   "id": "c2788853",
   "metadata": {},
   "outputs": [],
   "source": []
  },
  {
   "cell_type": "code",
   "execution_count": 1,
   "id": "0183a091",
   "metadata": {},
   "outputs": [
    {
     "name": "stdout",
     "output_type": "stream",
     "text": [
      "2.7.1+cpu\n",
      "False\n"
     ]
    }
   ],
   "source": [
    "import torch\n",
    "print(torch.__version__)\n",
    "print(torch.cuda.is_available())  # Should be True if CUDA is installed and working"
   ]
  },
  {
   "cell_type": "code",
   "execution_count": 1,
   "id": "9400177d",
   "metadata": {},
   "outputs": [
    {
     "name": "stderr",
     "output_type": "stream",
     "text": [
      "C:\\Users\\youss\\AppData\\Local\\Packages\\PythonSoftwareFoundation.Python.3.11_qbz5n2kfra8p0\\LocalCache\\local-packages\\Python311\\site-packages\\keras\\src\\layers\\core\\dense.py:93: UserWarning: Do not pass an `input_shape`/`input_dim` argument to a layer. When using Sequential models, prefer using an `Input(shape)` object as the first layer in the model instead.\n",
      "  super().__init__(activity_regularizer=activity_regularizer, **kwargs)\n"
     ]
    },
    {
     "name": "stdout",
     "output_type": "stream",
     "text": [
      "\u001b[1m1/1\u001b[0m \u001b[32m━━━━━━━━━━━━━━━━━━━━\u001b[0m\u001b[37m\u001b[0m \u001b[1m0s\u001b[0m 67ms/step\n",
      "Predicted price for 1600 sqft house: $317101.09\n"
     ]
    }
   ],
   "source": [
    "import tensorflow as tf\n",
    "import numpy as np\n",
    "\n",
    "# 1. Load the data\n",
    "house_sizes = np.array([600, 800, 1000, 1200, 1400], dtype=float)\n",
    "house_prices = np.array([150, 200, 250, 300, 350], dtype=float)\n",
    "\n",
    "# 2. Normalize the data\n",
    "house_sizes_norm = house_sizes / max(house_sizes)\n",
    "house_prices_norm = house_prices / max(house_prices)\n",
    "\n",
    "# 3. Build the linear regression model\n",
    "model = tf.keras.Sequential([\n",
    "    tf.keras.layers.Dense(units=1, input_shape=[1])\n",
    "])\n",
    "\n",
    "# 4. Compile and train the model\n",
    "model.compile(optimizer='sgd', loss='mean_squared_error')\n",
    "model.fit(house_sizes_norm, house_prices_norm, epochs=500, verbose=False)\n",
    "\n",
    "# 5. Predict the price of a 1600 sqft house\n",
    "new_size_norm = np.array([1600 / max(house_sizes)])\n",
    "predicted_price_norm = model.predict(new_size_norm)\n",
    "predicted_price = predicted_price_norm[0][0] * max(house_prices)\n",
    "\n",
    "# 6. Print the predicted price\n",
    "print(f\"Predicted price for 1600 sqft house: ${predicted_price*1000:.2f}\")"
   ]
  }
 ],
 "metadata": {
  "kernelspec": {
   "display_name": "Python 3",
   "language": "python",
   "name": "python3"
  },
  "language_info": {
   "codemirror_mode": {
    "name": "ipython",
    "version": 3
   },
   "file_extension": ".py",
   "mimetype": "text/x-python",
   "name": "python",
   "nbconvert_exporter": "python",
   "pygments_lexer": "ipython3",
   "version": "3.11.9"
  }
 },
 "nbformat": 4,
 "nbformat_minor": 5
}
